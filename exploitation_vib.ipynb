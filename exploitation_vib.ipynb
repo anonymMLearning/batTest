{
 "cells": [
  {
   "cell_type": "markdown",
   "id": "37bc353b",
   "metadata": {},
   "source": [
    "![Image depuis GitHub](https://raw.githubusercontent.com/anonymMLearning/batTest/main/img/img.jpg)"
   ]
  },
  {
   "cell_type": "code",
   "execution_count": null,
   "id": "9920fa09",
   "metadata": {
    "vscode": {
     "languageId": "plaintext"
    }
   },
   "outputs": [],
   "source": [
    "a = 2\n",
    "print(a)"
   ]
  }
 ],
 "metadata": {
  "language_info": {
   "name": "python"
  }
 },
 "nbformat": 4,
 "nbformat_minor": 5
}
